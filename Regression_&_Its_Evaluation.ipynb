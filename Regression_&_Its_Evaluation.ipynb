{
  "nbformat": 4,
  "nbformat_minor": 0,
  "metadata": {
    "colab": {
      "provenance": []
    },
    "kernelspec": {
      "name": "python3",
      "display_name": "Python 3"
    },
    "language_info": {
      "name": "python"
    }
  },
  "cells": [
    {
      "cell_type": "code",
      "execution_count": null,
      "metadata": {
        "id": "-bqu5I0S4HHf"
      },
      "outputs": [],
      "source": []
    },
    {
      "cell_type": "markdown",
      "source": [
        "# QUESTION 1\n",
        "Simple Linear Regression is a statistical method that shows the relationship between two variables:\n",
        "\n",
        "Independent variable (X): the predictor\n",
        "\n",
        "Dependent variable (Y): the outcome\n",
        "\n",
        "It fits a straight line to the data using the equation:\n",
        "\n",
        "𝑌\n",
        "=\n",
        "𝛽\n",
        "0\n",
        "+\n",
        "𝛽\n",
        "1\n",
        "𝑋\n",
        "+\n",
        "𝜀\n",
        "Y=β0+β1X+ε\n",
        "\n",
        "Where:\n",
        "\n",
        "β0 = intercept\n",
        "\n",
        "β1 = slope (effect of X on Y)\n",
        "\n",
        "ε = error term"
      ],
      "metadata": {
        "id": "RJnit4ts4pLX"
      }
    },
    {
      "cell_type": "markdown",
      "source": [
        "# QUESTION 2\n",
        "The main assumptions are:\n",
        "\n",
        "Linearity → The relationship between X (independent) and Y (dependent) is linear.\n",
        "\n",
        "Independence → Observations are independent of each other.\n",
        "\n",
        "Homoscedasticity → The variance of errors (residuals) is constant across all levels of X.\n",
        "\n",
        "Normality of Errors → The residuals (differences between actual and predicted Y) follow a normal distribution.\n",
        "\n",
        "No Multicollinearity → Not relevant in simple regression (only one X), but in multiple regression predictors should not be highly correlated."
      ],
      "metadata": {
        "id": "FTxolyso4z0L"
      }
    },
    {
      "cell_type": "markdown",
      "source": [
        "# QUESTION 3\n",
        "Heteroscedasticity means the variance of the errors (residuals) is not constant across all levels of the independent variable(s).\n",
        "\n",
        "In simple terms: the spread of errors changes with X (e.g., errors are small for low values of X but large for high values).\n",
        "\n",
        "Why it is important:\n",
        "\n",
        "It violates regression assumptions (homoscedasticity).\n",
        "\n",
        "Leads to inefficient estimates of coefficients.\n",
        "\n",
        "Causes incorrect standard errors, making hypothesis tests (t-test, F-test) unreliable.\n",
        "\n",
        "May result in wrong conclusions about the significance of variables."
      ],
      "metadata": {
        "id": "wxwh60ih49sa"
      }
    },
    {
      "cell_type": "markdown",
      "source": [
        "# QUESTION 4\n",
        "Multiple Linear Regression (MLR) is a statistical method used to study the relationship between one dependent variable (Y) and two or more independent variables (X₁, X₂, …, Xn).\n",
        "\n",
        "The model is expressed as:\n",
        "\n",
        "𝑌\n",
        "=\n",
        "𝛽\n",
        "0\n",
        "+\n",
        "𝛽\n",
        "1\n",
        "𝑋\n",
        "1\n",
        "+\n",
        "𝛽\n",
        "2\n",
        "𝑋\n",
        "2\n",
        "+\n",
        ".\n",
        ".\n",
        ".\n",
        "+\n",
        "𝛽\n",
        "𝑛\n",
        "𝑋\n",
        "𝑛\n",
        "+\n",
        "𝜀\n",
        "Y=β0+β1X1+β2X2+...+βnXn+ε\n",
        "\n",
        "Where:\n",
        "\n",
        "Y = dependent variable (outcome)\n",
        "\n",
        "X₁, X₂, …, Xn = independent variables (predictors)\n",
        "\n",
        "β0 = intercept\n",
        "\n",
        "β1, β2, …, βn = coefficients (effect of each predictor on Y)\n",
        "\n",
        "ε = error term"
      ],
      "metadata": {
        "id": "4PhP5-tq5ITj"
      }
    },
    {
      "cell_type": "markdown",
      "source": [
        "# QUESTION 5\n",
        "Polynomial Regression is a type of regression where the relationship between the independent variable (X) and dependent variable (Y) is modeled as an nth-degree polynomial.\n",
        "\n",
        "The equation looks like:\n",
        "\n",
        "𝑌\n",
        "=\n",
        "𝛽\n",
        "0\n",
        "+\n",
        "𝛽\n",
        "1\n",
        "𝑋\n",
        "+\n",
        "𝛽\n",
        "2\n",
        "𝑋\n",
        "2\n",
        "+\n",
        "𝛽\n",
        "3\n",
        "𝑋\n",
        "3\n",
        "+\n",
        ".\n",
        ".\n",
        ".\n",
        "+\n",
        "𝛽\n",
        "𝑛\n",
        "𝑋\n",
        "𝑛\n",
        "+\n",
        "𝜀\n",
        "Y=β0+β1X+β2X\n",
        "2\n",
        "+β3X\n",
        "3\n",
        "+...+βnX\n",
        "n\n",
        "+ε\n",
        "\n",
        "Difference from Linear Regression:\n",
        "\n",
        "Linear Regression assumes a straight-line relationship between X and Y.\n",
        "\n",
        "Polynomial Regression can capture curved or nonlinear relationships by adding higher-order terms (X², X³, etc.).\n",
        "\n",
        "Linear regression fits a straight line; polynomial regression fits a curve."
      ],
      "metadata": {
        "id": "HQ2ctyqr5WTl"
      }
    },
    {
      "cell_type": "code",
      "source": [
        "# QUESTION 6\n",
        "# Import libraries\n",
        "import numpy as np\n",
        "import matplotlib.pyplot as plt\n",
        "from sklearn.linear_model import LinearRegression\n",
        "\n",
        "# Sample data\n",
        "X = np.array([1, 2, 3, 4, 5]).reshape(-1, 1)  # Reshape for sklearn\n",
        "Y = np.array([2.1, 4.3, 6.1, 7.9, 10.2])\n",
        "\n",
        "# Create and fit the model\n",
        "model = LinearRegression()\n",
        "model.fit(X, Y)\n",
        "\n",
        "# Predictions\n",
        "Y_pred = model.predict(X)\n",
        "\n",
        "# Print coefficients\n",
        "print(\"Intercept (β0):\", model.intercept_)\n",
        "print(\"Slope (β1):\", model.coef_[0])\n",
        "\n",
        "# Plot data points and regression line\n",
        "plt.scatter(X, Y, color=\"blue\", label=\"Actual Data\")\n",
        "plt.plot(X, Y_pred, color=\"red\", linewidth=2, label=\"Regression Line\")\n",
        "plt.xlabel(\"X\")\n",
        "plt.ylabel(\"Y\")\n",
        "plt.title(\"Simple Linear Regression\")\n",
        "plt.legend()\n",
        "plt.show()\n"
      ],
      "metadata": {
        "colab": {
          "base_uri": "https://localhost:8080/",
          "height": 507
        },
        "id": "wHKKNRca5lua",
        "outputId": "ed30a4e6-9de9-428a-ebd7-a1f198b7f73c"
      },
      "execution_count": 1,
      "outputs": [
        {
          "output_type": "stream",
          "name": "stdout",
          "text": [
            "Intercept (β0): 0.17999999999999794\n",
            "Slope (β1): 1.9800000000000004\n"
          ]
        },
        {
          "output_type": "display_data",
          "data": {
            "text/plain": [
              "<Figure size 640x480 with 1 Axes>"
            ],
            "image/png": "[encoded data removed]"
          },
          "metadata": {}
        }
      ]
    },
    {
      "cell_type": "code",
      "source": [
        "# QUESTION 7\n",
        "# Import libraries\n",
        "import pandas as pd\n",
        "import numpy as np\n",
        "from sklearn.linear_model import LinearRegression\n",
        "from statsmodels.stats.outliers_influence import variance_inflation_factor\n",
        "import statsmodels.api as sm\n",
        "\n",
        "# Sample data\n",
        "data = {\n",
        "    \"Area\": [1200, 1500, 1800, 2000],\n",
        "    \"Rooms\": [2, 3, 3, 4],\n",
        "    \"Price\": [250000, 300000, 320000, 370000]\n",
        "}\n",
        "\n",
        "# Create DataFrame\n",
        "df = pd.DataFrame(data)\n",
        "\n",
        "# Independent variables (X) and dependent variable (y)\n",
        "X = df[[\"Area\", \"Rooms\"]]\n",
        "y = df[\"Price\"]\n",
        "\n",
        "# Fit Multiple Linear Regression model\n",
        "model = LinearRegression()\n",
        "model.fit(X, y)\n",
        "\n",
        "# Print coefficients\n",
        "print(\"Intercept (β0):\", model.intercept_)\n",
        "print(\"Coefficients (β1 for Area, β2 for Rooms):\", model.coef_)\n",
        "\n",
        "# Predict values\n",
        "y_pred = model.predict(X)\n",
        "\n",
        "# Add constant for VIF calculation\n",
        "X_with_const = sm.add_constant(X)\n",
        "\n",
        "# Calculate VIF\n",
        "vif_data = pd.DataFrame()\n",
        "vif_data[\"Feature\"] = X_with_const.columns\n",
        "vif_data[\"VIF\"] = [variance_inflation_factor(X_with_const.values, i)\n",
        "                   for i in range(X_with_const.shape[1])]\n",
        "\n",
        "print(\"\\nVariance Inflation Factor (VIF):\")\n",
        "print(vif_data)\n"
      ],
      "metadata": {
        "colab": {
          "base_uri": "https://localhost:8080/"
        },
        "id": "pEfl5xFb56HU",
        "outputId": "aacf910f-9efd-4ddd-c0ca-a70ca8357b15"
      },
      "execution_count": 2,
      "outputs": [
        {
          "output_type": "stream",
          "name": "stdout",
          "text": [
            "Intercept (β0): 103157.89473684214\n",
            "Coefficients (β1 for Area, β2 for Rooms): [   63.15789474 34736.84210526]\n",
            "\n",
            "Variance Inflation Factor (VIF):\n",
            "  Feature        VIF\n",
            "0   const  34.210526\n",
            "1    Area   7.736842\n",
            "2   Rooms   7.736842\n"
          ]
        }
      ]
    },
    {
      "cell_type": "code",
      "source": [
        "# QUESTION 8\n",
        "# Import libraries\n",
        "import numpy as np\n",
        "import matplotlib.pyplot as plt\n",
        "from sklearn.preprocessing import PolynomialFeatures\n",
        "from sklearn.linear_model import LinearRegression\n",
        "\n",
        "# Sample data\n",
        "X = np.array([1, 2, 3, 4, 5]).reshape(-1, 1)\n",
        "Y = np.array([2.2, 4.8, 7.5, 11.2, 14.7])\n",
        "\n",
        "# Transform features for polynomial regression (degree=2)\n",
        "poly = PolynomialFeatures(degree=2)\n",
        "X_poly = poly.fit_transform(X)\n",
        "\n",
        "# Fit polynomial regression model\n",
        "model = LinearRegression()\n",
        "model.fit(X_poly, Y)\n",
        "\n",
        "# Predict values\n",
        "Y_pred = model.predict(X_poly)\n",
        "\n",
        "# Print coefficients\n",
        "print(\"Intercept (β0):\", model.intercept_)\n",
        "print(\"Coefficients (β1, β2):\", model.coef_)\n",
        "\n",
        "# Plot original data and polynomial curve\n",
        "plt.scatter(X, Y, color=\"blue\", label=\"Actual Data\")\n",
        "plt.plot(X, Y_pred, color=\"red\", linewidth=2, label=\"Polynomial Fit (Degree 2)\")\n",
        "plt.xlabel(\"X\")\n",
        "plt.ylabel(\"Y\")\n",
        "plt.title(\"Polynomial Regression (Quadratic)\")\n",
        "plt.legend()\n",
        "plt.show()\n"
      ],
      "metadata": {
        "colab": {
          "base_uri": "https://localhost:8080/",
          "height": 507
        },
        "id": "sqyvgDie6GuA",
        "outputId": "96be190a-53bd-4e8d-84f3-ca524b3805bf"
      },
      "execution_count": 3,
      "outputs": [
        {
          "output_type": "stream",
          "name": "stdout",
          "text": [
            "Intercept (β0): 0.06000000000000938\n",
            "Coefficients (β1, β2): [0.   1.94 0.2 ]\n"
          ]
        },
        {
          "output_type": "display_data",
          "data": {
            "text/plain": [
              "<Figure size 640x480 with 1 Axes>"
            ],
            "image/png": "[encoded data removed]"
          },
          "metadata": {}
        }
      ]
    },
    {
      "cell_type": "code",
      "source": [
        "# QUESTION 9\n",
        "# Import libraries\n",
        "import numpy as np\n",
        "import matplotlib.pyplot as plt\n",
        "from sklearn.linear_model import LinearRegression\n",
        "\n",
        "# Sample data\n",
        "X = np.array([10, 20, 30, 40, 50]).reshape(-1, 1)\n",
        "Y = np.array([15, 35, 40, 50, 65])\n",
        "\n",
        "# Fit regression model\n",
        "model = LinearRegression()\n",
        "model.fit(X, Y)\n",
        "\n",
        "# Predictions\n",
        "Y_pred = model.predict(X)\n",
        "\n",
        "# Calculate residuals\n",
        "residuals = Y - Y_pred\n",
        "\n",
        "# Print regression details\n",
        "print(\"Intercept (β0):\", model.intercept_)\n",
        "print(\"Slope (β1):\", model.coef_[0])\n",
        "print(\"Residuals:\", residuals)\n",
        "\n",
        "# Plot residuals\n",
        "plt.scatter(X, residuals, color=\"blue\")\n",
        "plt.axhline(y=0, color=\"red\", linestyle=\"--\")\n",
        "plt.xlabel(\"X\")\n",
        "plt.ylabel(\"Residuals (Y - Y_pred)\")\n",
        "plt.title(\"Residuals Plot\")\n",
        "plt.show()\n"
      ],
      "metadata": {
        "colab": {
          "base_uri": "https://localhost:8080/",
          "height": 524
        },
        "id": "vHpXsDb26Umh",
        "outputId": "4c906f7a-b9d4-4808-8b1a-dda0e12c3cb1"
      },
      "execution_count": 4,
      "outputs": [
        {
          "output_type": "stream",
          "name": "stdout",
          "text": [
            "Intercept (β0): 6.499999999999993\n",
            "Slope (β1): 1.1500000000000001\n",
            "Residuals: [-3.   5.5 -1.  -2.5  1. ]\n"
          ]
        },
        {
          "output_type": "display_data",
          "data": {
            "text/plain": [
              "<Figure size 640x480 with 1 Axes>"
            ],
            "image/png": "[encoded data removed]"
          },
          "metadata": {}
        }
      ]
    },
    {
      "cell_type": "markdown",
      "source": [
        "# QUESTION 10\n",
        "As a data scientist building a regression model for house price prediction:\n",
        "\n",
        "✅ To address Heteroscedasticity (unequal variance of errors):\n",
        "\n",
        "Transform variables – Apply log, square root, or Box-Cox transformation on house prices or predictors (e.g., log(price)) to stabilize variance.\n",
        "\n",
        "Weighted Least Squares (WLS) – Give less weight to observations with higher variance.\n",
        "\n",
        "Robust Regression – Use heteroscedasticity-robust standard errors (e.g., Huber or White’s correction).\n",
        "\n",
        "✅ To address Multicollinearity (high correlation between predictors like area & rooms):\n",
        "\n",
        "Check VIF (Variance Inflation Factor) – Identify highly correlated predictors (VIF > 10 indicates severe multicollinearity).\n",
        "\n",
        "Remove or combine features – Drop redundant variables or combine correlated ones (e.g., area per room).\n",
        "\n",
        "Dimensionality reduction – Use PCA (Principal Component Analysis) to create uncorrelated components.\n",
        "\n",
        "Regularization methods – Apply Ridge or Lasso regression to penalize large coefficients and reduce multicollinearity impact.\n",
        "\n",
        "✅ Ensuring a Robust Model:\n",
        "\n",
        "After fixing these issues, re-train the model.\n",
        "\n",
        "Validate using cross-validation to check performance stability.\n",
        "\n",
        "Evaluate with metrics like R², RMSE, and MAE to confirm improvements."
      ],
      "metadata": {
        "id": "leiCw4z-6tg_"
      }
    },
    {
      "cell_type": "code",
      "source": [],
      "metadata": {
        "id": "XvK7fuHL6x5h"
      },
      "execution_count": null,
      "outputs": []
    }
  ]
}